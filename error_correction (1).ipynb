{
 "cells": [
  {
   "cell_type": "code",
   "execution_count": 394,
   "id": "01987a2b",
   "metadata": {},
   "outputs": [],
   "source": [
    "from qiskit import QuantumCircuit, Aer, assemble\n",
    "from math import pi\n",
    "import numpy as np\n",
    "from qiskit.visualization import plot_bloch_multivector, plot_histogram, array_to_latex\n",
    "from qiskit import execute,transpile\n",
    "from qiskit import IBMQ\n",
    "from qiskit.providers.aer import AerSimulator\n",
    "from qiskit.tools.visualization import plot_histogram\n",
    "import math\n",
    "\n",
    "# Import from Qiskit Aer noise module\n",
    "from qiskit.providers.aer.noise import NoiseModel\n",
    "from qiskit.providers.aer.noise import QuantumError, ReadoutError\n",
    "from qiskit.providers.aer.noise import pauli_error\n",
    "from qiskit.providers.aer.noise import depolarizing_error\n",
    "from qiskit.providers.aer.noise import thermal_relaxation_error"
   ]
  },
  {
   "cell_type": "code",
   "execution_count": 395,
   "id": "bae57119",
   "metadata": {},
   "outputs": [
    {
     "name": "stderr",
     "output_type": "stream",
     "text": [
      "ibmqfactory.load_account:WARNING:2022-11-26 15:13:21,238: Credentials are already in use. The existing account in the session will be replaced.\n"
     ]
    }
   ],
   "source": [
    "IBMQ.save_account('c2779e938fd5f444bb0dcf52b25a6dd4ccca14184dde70ad3d134325659aa685f95f0848fe754475b7044c1ca1dcabd4564b1a3bf38fa0de1f0d31d391f272e8', overwrite=True)\n",
    "IBMQ.load_account()\n",
    "provider = IBMQ.get_provider(hub='ibm-q-ncsu', group='nc-state', project='grad-qc-class')"
   ]
  },
  {
   "cell_type": "code",
   "execution_count": 396,
   "id": "c53741f6",
   "metadata": {},
   "outputs": [
    {
     "name": "stderr",
     "output_type": "stream",
     "text": [
      "C:\\Users\\saipr\\AppData\\Roaming\\Python\\Python310\\site-packages\\qiskit_aer\\noise\\device\\models.py:365: UserWarning: Device model returned an invalid T_2 relaxation time greater than the theoretical maximum value 2 * T_1 (159882.26201706403 > 2 * 78091.63480224457). Truncating to maximum value.\n",
      "  warn(\"Device model returned an invalid T_2 relaxation time greater than\"\n",
      "C:\\Users\\saipr\\AppData\\Roaming\\Python\\Python310\\site-packages\\qiskit_aer\\noise\\device\\models.py:365: UserWarning: Device model returned an invalid T_2 relaxation time greater than the theoretical maximum value 2 * T_1 (159882.26201706403 > 2 * 78091.63480224457). Truncating to maximum value.\n",
      "  warn(\"Device model returned an invalid T_2 relaxation time greater than\"\n",
      "C:\\Users\\saipr\\AppData\\Roaming\\Python\\Python310\\site-packages\\qiskit_aer\\noise\\device\\models.py:365: UserWarning: Device model returned an invalid T_2 relaxation time greater than the theoretical maximum value 2 * T_1 (159882.26201706403 > 2 * 78091.63480224457). Truncating to maximum value.\n",
      "  warn(\"Device model returned an invalid T_2 relaxation time greater than\"\n",
      "C:\\Users\\saipr\\AppData\\Roaming\\Python\\Python310\\site-packages\\qiskit_aer\\noise\\device\\models.py:365: UserWarning: Device model returned an invalid T_2 relaxation time greater than the theoretical maximum value 2 * T_1 (159882.26201706403 > 2 * 78091.63480224457). Truncating to maximum value.\n",
      "  warn(\"Device model returned an invalid T_2 relaxation time greater than\"\n",
      "C:\\Users\\saipr\\AppData\\Roaming\\Python\\Python310\\site-packages\\qiskit_aer\\noise\\device\\models.py:365: UserWarning: Device model returned an invalid T_2 relaxation time greater than the theoretical maximum value 2 * T_1 (159882.26201706403 > 2 * 78091.63480224457). Truncating to maximum value.\n",
      "  warn(\"Device model returned an invalid T_2 relaxation time greater than\"\n",
      "Device reported a gate error parameter greater than maximum allowed value (1.000000 > 0.800000). Truncating to maximum value.\n",
      "Device model returned a depolarizing error parameter greater than maximum allowed value (1.066916 > 1.066667). Truncating to maximum value.\n",
      "Device reported a gate error parameter greater than maximum allowed value (1.000000 > 0.800000). Truncating to maximum value.\n",
      "Device model returned a depolarizing error parameter greater than maximum allowed value (1.066941 > 1.066667). Truncating to maximum value.\n",
      "Device reported a gate error parameter greater than maximum allowed value (1.000000 > 0.800000). Truncating to maximum value.\n",
      "Device model returned a depolarizing error parameter greater than maximum allowed value (1.067459 > 1.066667). Truncating to maximum value.\n",
      "Device reported a gate error parameter greater than maximum allowed value (1.000000 > 0.800000). Truncating to maximum value.\n",
      "Device model returned a depolarizing error parameter greater than maximum allowed value (1.067507 > 1.066667). Truncating to maximum value.\n",
      "C:\\Users\\saipr\\AppData\\Roaming\\Python\\Python310\\site-packages\\qiskit_aer\\noise\\device\\models.py:365: UserWarning: Device model returned an invalid T_2 relaxation time greater than the theoretical maximum value 2 * T_1 (159882.26201706403 > 2 * 78091.63480224457). Truncating to maximum value.\n",
      "  warn(\"Device model returned an invalid T_2 relaxation time greater than\"\n",
      "C:\\Users\\saipr\\AppData\\Roaming\\Python\\Python310\\site-packages\\qiskit_aer\\noise\\device\\models.py:365: UserWarning: Device model returned an invalid T_2 relaxation time greater than the theoretical maximum value 2 * T_1 (0.00015988226201706402 > 2 * 7.809163480224456e-05). Truncating to maximum value.\n",
      "  warn(\"Device model returned an invalid T_2 relaxation time greater than\"\n"
     ]
    }
   ],
   "source": [
    "from qiskit import Aer,transpile,assemble\n",
    "from qiskit.providers.aer.noise import NoiseModel\n",
    "simulator=Aer.get_backend(\"qasm_simulator\")\n",
    "backend = provider.get_backend(\"ibmq_mumbai\")\n",
    "noise_model=NoiseModel.from_backend(backend)"
   ]
  },
  {
   "cell_type": "code",
   "execution_count": 397,
   "id": "818de9af",
   "metadata": {},
   "outputs": [],
   "source": [
    "def generate_bell_pair(m,corr_bits):\n",
    "  qc = QuantumCircuit(corr_bits + 1)\n",
    "  if(m == 1):\n",
    "        qc.x(0)\n",
    "  for p in range(1,corr_bits+1):\n",
    "    qc.cx(0,p)    \n",
    "  qc.measure_all()\n",
    "  return qc     "
   ]
  },
  {
   "cell_type": "code",
   "execution_count": 398,
   "id": "5bc96bf2",
   "metadata": {},
   "outputs": [],
   "source": [
    "def simulate_and_generate_res(qc,noise_model,shots):\n",
    "  transpilecircuit=transpile(qc,backend)\n",
    "  assembled_circuit=assemble(transpilecircuit,shots=shots)\n",
    "  job=simulator.run(assembled_circuit,noise_model=noise_model)\n",
    "  results = job.result()\n",
    "  counts_bit_flip = results.get_counts()\n",
    "  return counts_bit_flip"
   ]
  },
  {
   "cell_type": "code",
   "execution_count": 399,
   "id": "0b78392e",
   "metadata": {},
   "outputs": [],
   "source": [
    "def sorted_list(counts_bit_flip,corr_bits):\n",
    " sorted_counts_flip = []\n",
    " count = 0\n",
    " for w in sorted(counts_bit_flip, key=counts_bit_flip.get, reverse=True):\n",
    "    #print(w, counts_bit_flip[w])\n",
    "    if(count<=corr_bits):\n",
    "        sorted_counts_flip.append(w)\n",
    "        #print(w)\n",
    "    count = count + 1\n",
    " return sorted_counts_flip"
   ]
  },
  {
   "cell_type": "code",
   "execution_count": 400,
   "id": "5108b645",
   "metadata": {},
   "outputs": [],
   "source": [
    "def derive_message_bit(sorted_counts):\n",
    "    found_one = 0\n",
    "    found_zero = 0\n",
    "    for i in sorted_counts:\n",
    "        one = 0\n",
    "        zero = 0\n",
    "        for j in i:\n",
    "            if( j == '0'):\n",
    "                zero = zero + 1\n",
    "            else:\n",
    "                one = one + 1\n",
    "        if(one >= zero):\n",
    "            found_one = found_one + 1\n",
    "        else:\n",
    "            found_zero = found_zero + 1\n",
    "    if(found_one > found_zero):\n",
    "        return 1\n",
    "    else:\n",
    "        return 0\n",
    "            "
   ]
  },
  {
   "cell_type": "code",
   "execution_count": 401,
   "id": "bd2d20b0",
   "metadata": {},
   "outputs": [],
   "source": [
    "corr_bits = 4\n",
    "m = 0\n",
    "shots = 1024"
   ]
  },
  {
   "cell_type": "code",
   "execution_count": 402,
   "id": "91e6637b",
   "metadata": {
    "scrolled": false
   },
   "outputs": [
    {
     "name": "stdout",
     "output_type": "stream",
     "text": [
      "                             ░ ┌─┐            \n",
      "   q_0: ──■────■────■────■───░─┤M├────────────\n",
      "        ┌─┴─┐  │    │    │   ░ └╥┘┌─┐         \n",
      "   q_1: ┤ X ├──┼────┼────┼───░──╫─┤M├─────────\n",
      "        └───┘┌─┴─┐  │    │   ░  ║ └╥┘┌─┐      \n",
      "   q_2: ─────┤ X ├──┼────┼───░──╫──╫─┤M├──────\n",
      "             └───┘┌─┴─┐  │   ░  ║  ║ └╥┘┌─┐   \n",
      "   q_3: ──────────┤ X ├──┼───░──╫──╫──╫─┤M├───\n",
      "                  └───┘┌─┴─┐ ░  ║  ║  ║ └╥┘┌─┐\n",
      "   q_4: ───────────────┤ X ├─░──╫──╫──╫──╫─┤M├\n",
      "                       └───┘ ░  ║  ║  ║  ║ └╥┘\n",
      "meas: 5/════════════════════════╩══╩══╩══╩══╩═\n",
      "                                0  1  2  3  4 \n"
     ]
    },
    {
     "data": {
      "image/png": "[encoded data removed]",
      "text/plain": [
       "<Figure size 700x500 with 1 Axes>"
      ]
     },
     "execution_count": 402,
     "metadata": {},
     "output_type": "execute_result"
    }
   ],
   "source": [
    "qc = generate_bell_pair(m,corr_bits)\n",
    "print(qc)\n",
    "counts_bit_flip = simulate_and_generate_res(qc,noise_model,shots)\n",
    "plot_histogram(counts_bit_flip)"
   ]
  },
  {
   "cell_type": "code",
   "execution_count": 403,
   "id": "198acd92",
   "metadata": {
    "scrolled": true
   },
   "outputs": [
    {
     "name": "stdout",
     "output_type": "stream",
     "text": [
      "953\n",
      "16\n",
      "14\n",
      "10\n",
      "10\n",
      "0.9794921875\n",
      "0\n",
      "Correction passed\n"
     ]
    }
   ],
   "source": [
    "sorted_counts = sorted_list(counts_bit_flip,corr_bits)\n",
    "sum = 0\n",
    "for i in sorted_counts:\n",
    "    print(counts_bit_flip[i])\n",
    "    sum = sum + int(counts_bit_flip[i])\n",
    "print(sum/shots)\n",
    "message_bit =derive_message_bit(sorted_counts)\n",
    "print(message_bit)\n",
    "if(message_bit == m):\n",
    "    print(\"Correction passed\")\n",
    "else:\n",
    "    print(\"Correct failed\")"
   ]
  },
  {
   "cell_type": "code",
   "execution_count": 404,
   "id": "2bc9b4bf",
   "metadata": {},
   "outputs": [
    {
     "name": "stdout",
     "output_type": "stream",
     "text": [
      "NoiseModel:\n",
      "  Basis gates: ['cx', 'id', 'reset', 'rz', 'sx', 'x']\n",
      "  Instructions with noise: ['measure', 'x', 'reset', 'cx', 'id', 'sx']\n",
      "  Qubits with noise: [0, 1, 2, 3, 4, 5, 6, 7, 8, 9, 10, 11, 12, 13, 14, 15, 16, 17, 18, 19, 20, 21, 22, 23, 24, 25, 26]\n",
      "  Specific qubit errors: [('id', (0,)), ('id', (1,)), ('id', (2,)), ('id', (3,)), ('id', (4,)), ('id', (5,)), ('id', (6,)), ('id', (7,)), ('id', (8,)), ('id', (9,)), ('id', (10,)), ('id', (11,)), ('id', (12,)), ('id', (13,)), ('id', (14,)), ('id', (15,)), ('id', (16,)), ('id', (17,)), ('id', (18,)), ('id', (19,)), ('id', (20,)), ('id', (21,)), ('id', (22,)), ('id', (23,)), ('id', (24,)), ('id', (25,)), ('id', (26,)), ('sx', (0,)), ('sx', (1,)), ('sx', (2,)), ('sx', (3,)), ('sx', (4,)), ('sx', (5,)), ('sx', (6,)), ('sx', (7,)), ('sx', (8,)), ('sx', (9,)), ('sx', (10,)), ('sx', (11,)), ('sx', (12,)), ('sx', (13,)), ('sx', (14,)), ('sx', (15,)), ('sx', (16,)), ('sx', (17,)), ('sx', (18,)), ('sx', (19,)), ('sx', (20,)), ('sx', (21,)), ('sx', (22,)), ('sx', (23,)), ('sx', (24,)), ('sx', (25,)), ('sx', (26,)), ('x', (0,)), ('x', (1,)), ('x', (2,)), ('x', (3,)), ('x', (4,)), ('x', (5,)), ('x', (6,)), ('x', (7,)), ('x', (8,)), ('x', (9,)), ('x', (10,)), ('x', (11,)), ('x', (12,)), ('x', (13,)), ('x', (14,)), ('x', (15,)), ('x', (16,)), ('x', (17,)), ('x', (18,)), ('x', (19,)), ('x', (20,)), ('x', (21,)), ('x', (22,)), ('x', (23,)), ('x', (24,)), ('x', (25,)), ('x', (26,)), ('cx', (5, 8)), ('cx', (8, 5)), ('cx', (2, 1)), ('cx', (1, 2)), ('cx', (9, 8)), ('cx', (8, 9)), ('cx', (13, 14)), ('cx', (14, 13)), ('cx', (16, 14)), ('cx', (14, 16)), ('cx', (19, 16)), ('cx', (16, 19)), ('cx', (18, 21)), ('cx', (21, 18)), ('cx', (25, 22)), ('cx', (22, 25)), ('cx', (15, 18)), ('cx', (18, 15)), ('cx', (26, 25)), ('cx', (25, 26)), ('cx', (15, 12)), ('cx', (12, 15)), ('cx', (22, 19)), ('cx', (19, 22)), ('cx', (3, 2)), ('cx', (2, 3)), ('cx', (10, 7)), ('cx', (7, 10)), ('cx', (14, 11)), ('cx', (11, 14)), ('cx', (24, 25)), ('cx', (25, 24)), ('cx', (6, 7)), ('cx', (7, 6)), ('cx', (17, 18)), ('cx', (18, 17)), ('cx', (4, 7)), ('cx', (7, 4)), ('cx', (4, 1)), ('cx', (1, 4)), ('cx', (12, 13)), ('cx', (13, 12)), ('cx', (24, 23)), ('cx', (23, 24)), ('cx', (0, 1)), ('cx', (1, 0)), ('cx', (10, 12)), ('cx', (12, 10)), ('cx', (20, 19)), ('cx', (19, 20)), ('cx', (21, 23)), ('cx', (23, 21)), ('cx', (3, 5)), ('cx', (5, 3)), ('cx', (8, 11)), ('cx', (11, 8)), ('reset', (0,)), ('reset', (1,)), ('reset', (2,)), ('reset', (3,)), ('reset', (4,)), ('reset', (5,)), ('reset', (6,)), ('reset', (7,)), ('reset', (8,)), ('reset', (9,)), ('reset', (10,)), ('reset', (11,)), ('reset', (12,)), ('reset', (13,)), ('reset', (14,)), ('reset', (15,)), ('reset', (16,)), ('reset', (17,)), ('reset', (18,)), ('reset', (19,)), ('reset', (20,)), ('reset', (21,)), ('reset', (22,)), ('reset', (23,)), ('reset', (24,)), ('reset', (25,)), ('reset', (26,)), ('measure', (0,)), ('measure', (1,)), ('measure', (2,)), ('measure', (3,)), ('measure', (4,)), ('measure', (5,)), ('measure', (6,)), ('measure', (7,)), ('measure', (8,)), ('measure', (9,)), ('measure', (10,)), ('measure', (11,)), ('measure', (12,)), ('measure', (13,)), ('measure', (14,)), ('measure', (15,)), ('measure', (16,)), ('measure', (17,)), ('measure', (18,)), ('measure', (19,)), ('measure', (20,)), ('measure', (21,)), ('measure', (22,)), ('measure', (23,)), ('measure', (24,)), ('measure', (25,)), ('measure', (26,))]\n"
     ]
    }
   ],
   "source": [
    "print(noise_model)"
   ]
  },
  {
   "cell_type": "code",
   "execution_count": null,
   "id": "a469e6d1",
   "metadata": {},
   "outputs": [],
   "source": []
  }
 ],
 "metadata": {
  "kernelspec": {
   "display_name": "Python 3 (ipykernel)",
   "language": "python",
   "name": "python3"
  },
  "language_info": {
   "codemirror_mode": {
    "name": "ipython",
    "version": 3
   },
   "file_extension": ".py",
   "mimetype": "text/x-python",
   "name": "python",
   "nbconvert_exporter": "python",
   "pygments_lexer": "ipython3",
   "version": "3.10.8"
  }
 },
 "nbformat": 4,
 "nbformat_minor": 5
}
