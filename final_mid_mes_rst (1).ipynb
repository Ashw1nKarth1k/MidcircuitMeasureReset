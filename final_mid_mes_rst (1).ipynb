{
 "cells": [
  {
   "cell_type": "code",
   "execution_count": 10,
   "id": "42fbabf4",
   "metadata": {},
   "outputs": [
    {
     "name": "stderr",
     "output_type": "stream",
     "text": [
      "ibmqfactory.load_account:WARNING:2022-11-05 17:48:54,891: Credentials are already in use. The existing account in the session will be replaced.\n"
     ]
    },
    {
     "data": {
      "text/plain": [
       "<AccountProvider for IBMQ(hub='ibm-q', group='open', project='main')>"
      ]
     },
     "execution_count": 10,
     "metadata": {},
     "output_type": "execute_result"
    }
   ],
   "source": [
    "#vkrishn7 200417228\n",
    "from qiskit import Aer, QuantumCircuit, execute\n",
    "from qiskit import IBMQ\n",
    "#IBMQ.save_account(YOUR-TOKEN-HERE)\n",
    "IBMQ.save_account('6ad660c99fd7054787da3cd13d29873bad4c0c901f2e0653852c11584a8a6398fb47de4b810bceeb78597a9ce3c4b18d198b38f56061a7ef44c67b2742484432', overwrite=True)\n",
    "IBMQ.load_account()"
   ]
  },
  {
   "cell_type": "code",
   "execution_count": 11,
   "id": "9e69c3fe",
   "metadata": {},
   "outputs": [],
   "source": [
    "def dotprod(a, b):\n",
    "    temp_sum = 0\n",
    "    for i in range(len(a)):\n",
    "        temp_sum += int(a[i])*int(b[i])\n",
    "    return temp_sum%2"
   ]
  },
  {
   "cell_type": "code",
   "execution_count": 12,
   "id": "64ad2e3b",
   "metadata": {},
   "outputs": [],
   "source": [
    "def bv(s,n,qc):\n",
    "   qc.x(n) \n",
    "   qc.barrier()\n",
    "   qc.h(range(n+1))\n",
    "   qc.barrier()\n",
    "   for i,yes in enumerate(reversed(s)):\n",
    "      if yes == '1': \n",
    "        qc.cx(i, n)\n",
    "        \n",
    "   qc.barrier()\n",
    "   qc.h(range(n+1))\n",
    "   qc.barrier()"
   ]
  },
  {
   "cell_type": "code",
   "execution_count": 13,
   "id": "75257f87",
   "metadata": {},
   "outputs": [],
   "source": [
    "def oracle(circ, b):\n",
    "    # TODO generalize this function\n",
    "    for i, char in enumerate(b):\n",
    "        circ.cx(i, i+len(b))\n",
    "    for i,yes in enumerate(reversed(b)):\n",
    "      if yes == '1': \n",
    "        circ.cx(len(b)-1, i+len(b))\n",
    "    #circ.cx(1, 4)\n",
    "    #circ.cx(1, 5)"
   ]
  },
  {
   "cell_type": "code",
   "execution_count": 14,
   "id": "25914a0b",
   "metadata": {},
   "outputs": [],
   "source": [
    "# Main function\n",
    "b = '1111'\n",
    "n = len(b)\n",
    "run_bv = 1\n",
    "run_simon = 1\n",
    "circ_bv = QuantumCircuit(n*2, n*2)"
   ]
  },
  {
   "cell_type": "code",
   "execution_count": 15,
   "id": "95365a45",
   "metadata": {},
   "outputs": [],
   "source": [
    "bv(b,len(b),circ_bv)"
   ]
  },
  {
   "cell_type": "code",
   "execution_count": 16,
   "id": "3533c7f3",
   "metadata": {},
   "outputs": [
    {
     "data": {
      "text/plain": [
       "<qiskit.circuit.instructionset.InstructionSet at 0x7f516b668790>"
      ]
     },
     "execution_count": 16,
     "metadata": {},
     "output_type": "execute_result"
    }
   ],
   "source": [
    "circ_mid_mes_rst = QuantumCircuit(n*2,n*2)\n",
    "circ_mid_mes_rst.reset(range(n*2))\n",
    "circ_mid_mes_rst.barrier()\n",
    "\n",
    "circ_simon = QuantumCircuit(n*2,n*2)\n",
    "circ_simon.h(range(n))\n",
    "circ_simon.barrier()\n",
    "oracle(circ_simon, b)\n",
    "circ_simon.barrier()\n",
    "circ_simon.h(range(n))\n",
    "circ_simon.measure(range(n), range(n,n*2))"
   ]
  },
  {
   "cell_type": "code",
   "execution_count": 17,
   "id": "3e479e4f",
   "metadata": {},
   "outputs": [
    {
     "name": "stdout",
     "output_type": "stream",
     "text": [
      "           ░ ┌───┐ ░                      ░ ┌───┐ ░ ┌─┐                     ░ »\n",
      "q_0: ──────░─┤ H ├─░───■──────────────────░─┤ H ├─░─┤M├─|0>─────────────────░─»\n",
      "           ░ ├───┤ ░   │                  ░ ├───┤ ░ └╥┘ ┌─┐                 ░ »\n",
      "q_1: ──────░─┤ H ├─░───┼────■─────────────░─┤ H ├─░──╫──┤M├──|0>────────────░─»\n",
      "           ░ ├───┤ ░   │    │             ░ ├───┤ ░  ║  └╥┘  ┌─┐            ░ »\n",
      "q_2: ──────░─┤ H ├─░───┼────┼────■────────░─┤ H ├─░──╫───╫───┤M├──|0>───────░─»\n",
      "           ░ ├───┤ ░   │    │    │        ░ ├───┤ ░  ║   ║   └╥┘  ┌─┐       ░ »\n",
      "q_3: ──────░─┤ H ├─░───┼────┼────┼────■───░─┤ H ├─░──╫───╫────╫───┤M├──|0>──░─»\n",
      "     ┌───┐ ░ ├───┤ ░ ┌─┴─┐┌─┴─┐┌─┴─┐┌─┴─┐ ░ ├───┤ ░  ║   ║    ║   └╥┘       ░ »\n",
      "q_4: ┤ X ├─░─┤ H ├─░─┤ X ├┤ X ├┤ X ├┤ X ├─░─┤ H ├─░──╫───╫────╫────╫───|0>──░─»\n",
      "     └───┘ ░ └───┘ ░ └───┘└───┘└───┘└───┘ ░ └───┘ ░  ║   ║    ║    ║        ░ »\n",
      "q_5: ──────░───────░──────────────────────░───────░──╫───╫────╫────╫───|0>──░─»\n",
      "           ░       ░                      ░       ░  ║   ║    ║    ║        ░ »\n",
      "q_6: ──────░───────░──────────────────────░───────░──╫───╫────╫────╫───|0>──░─»\n",
      "           ░       ░                      ░       ░  ║   ║    ║    ║        ░ »\n",
      "q_7: ──────░───────░──────────────────────░───────░──╫───╫────╫────╫───|0>──░─»\n",
      "           ░       ░                      ░       ░  ║   ║    ║    ║        ░ »\n",
      "c_0: ════════════════════════════════════════════════╩═══╬════╬════╬══════════»\n",
      "                                                         ║    ║    ║          »\n",
      "c_1: ════════════════════════════════════════════════════╩════╬════╬══════════»\n",
      "                                                              ║    ║          »\n",
      "c_2: ═════════════════════════════════════════════════════════╩════╬══════════»\n",
      "                                                                   ║          »\n",
      "c_3: ══════════════════════════════════════════════════════════════╩══════════»\n",
      "                                                                              »\n",
      "c_4: ═════════════════════════════════════════════════════════════════════════»\n",
      "                                                                              »\n",
      "c_5: ═════════════════════════════════════════════════════════════════════════»\n",
      "                                                                              »\n",
      "c_6: ═════════════════════════════════════════════════════════════════════════»\n",
      "                                                                              »\n",
      "c_7: ═════════════════════════════════════════════════════════════════════════»\n",
      "                                                                              »\n",
      "«     ┌───┐ ░                                          ░ ┌───┐┌─┐         \n",
      "«q_0: ┤ H ├─░───■──────────────────────────────────────░─┤ H ├┤M├─────────\n",
      "«     ├───┤ ░   │                                      ░ ├───┤└╥┘┌─┐      \n",
      "«q_1: ┤ H ├─░───┼────■─────────────────────────────────░─┤ H ├─╫─┤M├──────\n",
      "«     ├───┤ ░   │    │                                 ░ ├───┤ ║ └╥┘┌─┐   \n",
      "«q_2: ┤ H ├─░───┼────┼────■────────────────────────────░─┤ H ├─╫──╫─┤M├───\n",
      "«     ├───┤ ░   │    │    │                            ░ ├───┤ ║  ║ └╥┘┌─┐\n",
      "«q_3: ┤ H ├─░───┼────┼────┼────■────■────■────■────■───░─┤ H ├─╫──╫──╫─┤M├\n",
      "«     └───┘ ░ ┌─┴─┐  │    │    │  ┌─┴─┐  │    │    │   ░ └───┘ ║  ║  ║ └╥┘\n",
      "«q_4: ──────░─┤ X ├──┼────┼────┼──┤ X ├──┼────┼────┼───░───────╫──╫──╫──╫─\n",
      "«           ░ └───┘┌─┴─┐  │    │  └───┘┌─┴─┐  │    │   ░       ║  ║  ║  ║ \n",
      "«q_5: ──────░──────┤ X ├──┼────┼───────┤ X ├──┼────┼───░───────╫──╫──╫──╫─\n",
      "«           ░      └───┘┌─┴─┐  │       └───┘┌─┴─┐  │   ░       ║  ║  ║  ║ \n",
      "«q_6: ──────░───────────┤ X ├──┼────────────┤ X ├──┼───░───────╫──╫──╫──╫─\n",
      "«           ░           └───┘┌─┴─┐          └───┘┌─┴─┐ ░       ║  ║  ║  ║ \n",
      "«q_7: ──────░────────────────┤ X ├───────────────┤ X ├─░───────╫──╫──╫──╫─\n",
      "«           ░                └───┘               └───┘ ░       ║  ║  ║  ║ \n",
      "«c_0: ═════════════════════════════════════════════════════════╬══╬══╬══╬═\n",
      "«                                                              ║  ║  ║  ║ \n",
      "«c_1: ═════════════════════════════════════════════════════════╬══╬══╬══╬═\n",
      "«                                                              ║  ║  ║  ║ \n",
      "«c_2: ═════════════════════════════════════════════════════════╬══╬══╬══╬═\n",
      "«                                                              ║  ║  ║  ║ \n",
      "«c_3: ═════════════════════════════════════════════════════════╬══╬══╬══╬═\n",
      "«                                                              ║  ║  ║  ║ \n",
      "«c_4: ═════════════════════════════════════════════════════════╩══╬══╬══╬═\n",
      "«                                                                 ║  ║  ║ \n",
      "«c_5: ════════════════════════════════════════════════════════════╩══╬══╬═\n",
      "«                                                                    ║  ║ \n",
      "«c_6: ═══════════════════════════════════════════════════════════════╩══╬═\n",
      "«                                                                       ║ \n",
      "«c_7: ══════════════════════════════════════════════════════════════════╩═\n",
      "«                                                                         \n"
     ]
    }
   ],
   "source": [
    "if(run_bv == 1 and run_simon == 0):\n",
    "   circ_bv.measure(range(n),range(n))\n",
    "   circ_net = circ_bv\n",
    "if(run_bv == 0 and run_simon == 1):\n",
    "    circ_net = circ_mid_mes_rst.compose(circ_simon)\n",
    "if(run_bv == 1 and run_simon == 1):\n",
    "   circ_bv.measure(range(n),range(n))\n",
    "   circ_net = circ_bv.compose(circ_mid_mes_rst)\n",
    "   circ_net = circ_net.compose(circ_simon)\n",
    "    \n",
    "print(circ_net)\n",
    "\n",
    "#simulator = Aer.get_backend('aer_simulator')\n",
    "#results = execute(circ_net, backend=simulator, shots=512).result()\n",
    "#counts = results.get_counts()\n",
    "#from qiskit.visualization import plot_histogram\n",
    "#plot_histogram(result.get_counts(circ_net))\n",
    " "
   ]
  },
  {
   "cell_type": "code",
   "execution_count": 18,
   "id": "194c46fa",
   "metadata": {},
   "outputs": [
    {
     "name": "stdout",
     "output_type": "stream",
     "text": [
      "{'01011111': 123, '10011111': 137, '00111111': 135, '10101111': 124, '11111111': 127, '00001111': 124, '01101111': 130, '11001111': 124}\n",
      "(1111 dot 01011111)%2 = 0\n",
      "(1111 dot 10011111)%2 = 0\n",
      "(1111 dot 00111111)%2 = 0\n",
      "(1111 dot 10101111)%2 = 0\n",
      "(1111 dot 11111111)%2 = 0\n",
      "(1111 dot 00001111)%2 = 0\n",
      "(1111 dot 01101111)%2 = 0\n",
      "(1111 dot 11001111)%2 = 0\n"
     ]
    },
    {
     "name": "stderr",
     "output_type": "stream",
     "text": [
      "<frozen importlib._bootstrap>:219: RuntimeWarning: scipy._lib.messagestream.MessageStream size changed, may indicate binary incompatibility. Expected 56 from C header, got 64 from PyObject\n"
     ]
    }
   ],
   "source": [
    "\n",
    "#IBMQ.get_provider(hub='ibm-q')\n",
    "#backend = provider.get_backend('ibmq_ithaca')\n",
    "\n",
    "provider = IBMQ.get_provider(hub='ibm-q-ncsu', group='nc-state', project='grad-qc-class')\n",
    "#backend = provider.get_backend('ibmq_mumbai')\n",
    "\n",
    "backend = Aer.get_backend('aer_simulator')\n",
    "shots = 1024\n",
    "job = execute(circ_net, backend=backend, shots=shots)\n",
    "results = job.result()\n",
    "counts = results.get_counts()\n",
    "\n",
    "if(run_bv == 1):\n",
    "   print(counts)\n",
    "\n",
    "if(run_simon == 1):\n",
    "   for code in counts:\n",
    "      print(\"(\" + str(b) + \" dot \" + str(code) + \")%2 = \" + str(dotprod(b, code)))"
   ]
  },
  {
   "cell_type": "code",
   "execution_count": null,
   "id": "83b54280",
   "metadata": {},
   "outputs": [],
   "source": []
  },
  {
   "cell_type": "code",
   "execution_count": null,
   "id": "5d05b660-30cd-4631-95b2-4600fdbe7706",
   "metadata": {},
   "outputs": [],
   "source": []
  }
 ],
 "metadata": {
  "kernelspec": {
   "display_name": "Python 3 (ipykernel)",
   "language": "python",
   "name": "python3"
  },
  "language_info": {
   "codemirror_mode": {
    "name": "ipython",
    "version": 3
   },
   "file_extension": ".py",
   "mimetype": "text/x-python",
   "name": "python",
   "nbconvert_exporter": "python",
   "pygments_lexer": "ipython3",
   "version": "3.8.13"
  },
  "widgets": {
   "application/vnd.jupyter.widget-state+json": {
    "state": {},
    "version_major": 2,
    "version_minor": 0
   }
  }
 },
 "nbformat": 4,
 "nbformat_minor": 5
}
